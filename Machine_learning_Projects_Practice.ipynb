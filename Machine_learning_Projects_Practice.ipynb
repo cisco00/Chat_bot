{
  "nbformat": 4,
  "nbformat_minor": 0,
  "metadata": {
    "colab": {
      "name": "Machine_learning_Projects_Practice",
      "provenance": [],
      "authorship_tag": "ABX9TyP0pGpI1ugGQdHmp/iIq2qZ",
      "include_colab_link": true
    },
    "kernelspec": {
      "name": "python3",
      "display_name": "Python 3"
    },
    "language_info": {
      "name": "python"
    },
    "accelerator": "GPU"
  },
  "cells": [
    {
      "cell_type": "markdown",
      "metadata": {
        "id": "view-in-github",
        "colab_type": "text"
      },
      "source": [
        "<a href=\"https://colab.research.google.com/github/cisco00/Chat_bot/blob/main/Machine_learning_Projects_Practice.ipynb\" target=\"_parent\"><img src=\"https://colab.research.google.com/assets/colab-badge.svg\" alt=\"Open In Colab\"/></a>"
      ]
    },
    {
      "cell_type": "code",
      "metadata": {
        "id": "cncOkEGWVjKq"
      },
      "source": [
        "import nltk\n",
        "import json\n",
        "import pickle\n",
        "import numpy as np\n",
        "import random\n",
        "\n",
        "from nltk.stem import WordNetLemmatizer, LancasterStemmer\n",
        "from keras.models import Sequential\n",
        "from keras.layers import Dense, Activation, Dropout\n",
        "from tensorflow.keras.optimizers import SGD"
      ],
      "execution_count": 61,
      "outputs": []
    },
    {
      "cell_type": "code",
      "metadata": {
        "id": "C3MK_2tkgH3l"
      },
      "source": [
        "import nltk\n",
        "nltk.download('all')\n",
        "nltk.download('punkt')"
      ],
      "execution_count": null,
      "outputs": []
    },
    {
      "cell_type": "code",
      "metadata": {
        "id": "HC62yCKdWVMz"
      },
      "source": [
        "words = []\n",
        "classes = []\n",
        "documents = []\n",
        "training = []\n",
        "ignore_words = ['?', '!']\n",
        "lemmatizer = WordNetLemmatizer()"
      ],
      "execution_count": 63,
      "outputs": []
    },
    {
      "cell_type": "markdown",
      "metadata": {
        "id": "aOkB-TT9cg-x"
      },
      "source": [
        "reading the json files"
      ]
    },
    {
      "cell_type": "code",
      "metadata": {
        "id": "edFGAeYna2IR"
      },
      "source": [
        "data_file = open(\"intents.json\").read()\n",
        "intents = json.loads(data_file)"
      ],
      "execution_count": 64,
      "outputs": []
    },
    {
      "cell_type": "code",
      "metadata": {
        "id": "Wk5txlOFiuWr"
      },
      "source": [
        "for intent in intents['intents']:\n",
        "    for pattern in intent['patterns']:\n",
        "\n",
        "        #tokenize each word\n",
        "        w = nltk.word_tokenize(pattern)\n",
        "        words.extend(w)\n",
        "        #add documents in the corpus\n",
        "        documents.append((w, intent['tag']))\n",
        "\n",
        "        # add to our classes list\n",
        "        if intent['tag'] not in classes:\n",
        "            classes.append(intent['tag'])"
      ],
      "execution_count": 65,
      "outputs": []
    },
    {
      "cell_type": "markdown",
      "metadata": {
        "id": "94OtTxz4oubM"
      },
      "source": [
        "lemmatizing word and removing duplicate from the list of words and creating a pickle file to store python file objects"
      ]
    },
    {
      "cell_type": "code",
      "metadata": {
        "id": "7murjb2ikgjv",
        "colab": {
          "base_uri": "https://localhost:8080/"
        },
        "outputId": "88d78f3b-7553-47d8-d643-be654df21d6e"
      },
      "source": [
        "words = [lemmatizer.lemmatize(w.lower()) for w in words if w not in ignore_words]\n",
        "words = sorted(list(set(words)))\n",
        "#sort classes\n",
        "classes = sorted(list(set(classes)))\n",
        "#documents = combination between pattern\n",
        "print(len(documents), \"documents\")\n",
        "#classes = intents\n",
        "print(len(classes), \"classes\", classes)\n",
        "#words = all_words vocabulary\n",
        "print(len(words), \"unique lemmatized words\", words)\n",
        "\n",
        "pickle.dump(words,open(\"words.pickle\", \"wb\"))\n",
        "pickle.dump(classes, open(\"classes.pickle\", \"wb\"))"
      ],
      "execution_count": 66,
      "outputs": [
        {
          "output_type": "stream",
          "name": "stdout",
          "text": [
            "47 documents\n",
            "9 classes ['adverse_drug', 'blood_pressure', 'blood_pressure_search', 'goodbye', 'greeting', 'hospital_search', 'options', 'pharmacy_search', 'thanks']\n",
            "88 unique lemmatized words [\"'s\", ',', 'a', 'adverse', 'all', 'anyone', 'are', 'awesome', 'be', 'behavior', 'blood', 'by', 'bye', 'can', 'causing', 'chatting', 'check', 'could', 'data', 'day', 'detail', 'do', 'dont', 'drug', 'entry', 'find', 'for', 'give', 'good', 'goodbye', 'have', 'hello', 'help', 'helpful', 'helping', 'hey', 'hi', 'history', 'hola', 'hospital', 'how', 'i', 'id', 'is', 'later', 'list', 'load', 'locate', 'log', 'looking', 'lookup', 'management', 'me', 'module', 'nearby', 'next', 'nice', 'of', 'offered', 'open', 'patient', 'pharmacy', 'pressure', 'provide', 'reaction', 'related', 'result', 'search', 'searching', 'see', 'show', 'suitable', 'support', 'task', 'thank', 'thanks', 'that', 'there', 'till', 'time', 'to', 'transfer', 'up', 'want', 'what', 'which', 'with', 'you']\n"
          ]
        }
      ]
    },
    {
      "cell_type": "markdown",
      "metadata": {
        "id": "v-vyLd79rlME"
      },
      "source": [
        "creating the training data"
      ]
    },
    {
      "cell_type": "code",
      "metadata": {
        "colab": {
          "base_uri": "https://localhost:8080/"
        },
        "id": "qO6ZbdDAqR_8",
        "outputId": "93dcff1d-651c-432a-81bd-ba5c2dc4c162"
      },
      "source": [
        "# create our training data\n",
        "training = []\n",
        "# create an empty array for our output\n",
        "output_empty = [0] * len(classes)\n",
        "# training set, bag of words for each sentence\n",
        "for doc in documents:\n",
        "    # initialize our bag of words\n",
        "    bag = []\n",
        "    # list of tokenized words for the pattern\n",
        "    pattern_words = doc[0]\n",
        "    # lemmatize each word - create base word, in attempt to represent related words\n",
        "    pattern_words = [lemmatizer.lemmatize(word.lower()) for word in pattern_words]\n",
        "    # create our bag of words array with 1, if word match found in current pattern\n",
        "    for w in words:\n",
        "        bag.append(1) if w in pattern_words else bag.append(0)\n",
        "\n",
        "    # output is a '0' for each tag and '1' for current tag (for each pattern)\n",
        "    output_row = list(output_empty)\n",
        "    output_row[classes.index(doc[1])] = 1\n",
        "\n",
        "    training.append([bag, output_row])\n",
        "# shuffle our features and turn into np.array\n",
        "random.shuffle(training)\n",
        "training = np.array(training)\n",
        "# create train and test lists. X - patterns, Y - intents\n",
        "train_x = list(training[:,0])\n",
        "train_y = list(training[:,1])\n",
        "print(\"Training data created\")"
      ],
      "execution_count": 67,
      "outputs": [
        {
          "output_type": "stream",
          "name": "stdout",
          "text": [
            "Training data created\n"
          ]
        },
        {
          "output_type": "stream",
          "name": "stderr",
          "text": [
            "/usr/local/lib/python3.7/dist-packages/ipykernel_launcher.py:24: VisibleDeprecationWarning: Creating an ndarray from ragged nested sequences (which is a list-or-tuple of lists-or-tuples-or ndarrays with different lengths or shapes) is deprecated. If you meant to do this, you must specify 'dtype=object' when creating the ndarray\n"
          ]
        }
      ]
    },
    {
      "cell_type": "markdown",
      "metadata": {
        "id": "C4z50UJA01YJ"
      },
      "source": [
        "Building the model"
      ]
    },
    {
      "cell_type": "code",
      "metadata": {
        "id": "tnNNmBgh101I",
        "colab": {
          "base_uri": "https://localhost:8080/"
        },
        "outputId": "bdb37769-54d6-47d6-cf28-466018319719"
      },
      "source": [
        "model = Sequential()\n",
        "model.add(Dense(128, input_shape=(len(train_x[0]),), activation='relu'))\n",
        "model.add(Dropout(0.5))\n",
        "model.add(Dense(64, activation='relu'))\n",
        "model.add(Dropout(0.5))\n",
        "model.add(Dense(len(train_y[0]), activation='softmax'))\n",
        "\n",
        "#Compile model. Stochastic gradient descent with Nesterov accelerated gradient gives good results for this model\n",
        "sgd = SGD(lr=0.01, decay=1e-6, momentum=0.9, nesterov=True)\n",
        "model.compile(loss='categorical_crossentropy', optimizer=sgd, metrics=['accuracy'])"
      ],
      "execution_count": 68,
      "outputs": [
        {
          "output_type": "stream",
          "name": "stderr",
          "text": [
            "/usr/local/lib/python3.7/dist-packages/keras/optimizer_v2/optimizer_v2.py:356: UserWarning: The `lr` argument is deprecated, use `learning_rate` instead.\n",
            "  \"The `lr` argument is deprecated, use `learning_rate` instead.\")\n"
          ]
        }
      ]
    },
    {
      "cell_type": "code",
      "metadata": {
        "colab": {
          "base_uri": "https://localhost:8080/"
        },
        "id": "kXIWeUj-shc0",
        "outputId": "ef532113-fac3-4102-c126-70ce943ef7fc"
      },
      "source": [
        "#fitting and saving the model \n",
        "hist = model.fit(np.array(train_x), np.array(train_y), epochs=200, batch_size=5, verbose=1)"
      ],
      "execution_count": 69,
      "outputs": [
        {
          "output_type": "stream",
          "name": "stdout",
          "text": [
            "Epoch 1/200\n",
            "10/10 [==============================] - 0s 4ms/step - loss: 2.2165 - accuracy: 0.0851\n",
            "Epoch 2/200\n",
            "10/10 [==============================] - 0s 3ms/step - loss: 2.1466 - accuracy: 0.1915\n",
            "Epoch 3/200\n",
            "10/10 [==============================] - 0s 4ms/step - loss: 2.0461 - accuracy: 0.2553\n",
            "Epoch 4/200\n",
            "10/10 [==============================] - 0s 4ms/step - loss: 1.9869 - accuracy: 0.3191\n",
            "Epoch 5/200\n",
            "10/10 [==============================] - 0s 4ms/step - loss: 1.8878 - accuracy: 0.3404\n",
            "Epoch 6/200\n",
            "10/10 [==============================] - 0s 4ms/step - loss: 1.7733 - accuracy: 0.3830\n",
            "Epoch 7/200\n",
            "10/10 [==============================] - 0s 4ms/step - loss: 1.6568 - accuracy: 0.4894\n",
            "Epoch 8/200\n",
            "10/10 [==============================] - 0s 4ms/step - loss: 1.4839 - accuracy: 0.4255\n",
            "Epoch 9/200\n",
            "10/10 [==============================] - 0s 4ms/step - loss: 1.2626 - accuracy: 0.7021\n",
            "Epoch 10/200\n",
            "10/10 [==============================] - 0s 4ms/step - loss: 1.0988 - accuracy: 0.8085\n",
            "Epoch 11/200\n",
            "10/10 [==============================] - 0s 4ms/step - loss: 1.1654 - accuracy: 0.6383\n",
            "Epoch 12/200\n",
            "10/10 [==============================] - 0s 4ms/step - loss: 0.9989 - accuracy: 0.7447\n",
            "Epoch 13/200\n",
            "10/10 [==============================] - 0s 5ms/step - loss: 0.9312 - accuracy: 0.7021\n",
            "Epoch 14/200\n",
            "10/10 [==============================] - 0s 4ms/step - loss: 0.8536 - accuracy: 0.6809\n",
            "Epoch 15/200\n",
            "10/10 [==============================] - 0s 4ms/step - loss: 0.8788 - accuracy: 0.6809\n",
            "Epoch 16/200\n",
            "10/10 [==============================] - 0s 5ms/step - loss: 0.7652 - accuracy: 0.8085\n",
            "Epoch 17/200\n",
            "10/10 [==============================] - 0s 4ms/step - loss: 0.5564 - accuracy: 0.8511\n",
            "Epoch 18/200\n",
            "10/10 [==============================] - 0s 4ms/step - loss: 0.5671 - accuracy: 0.8723\n",
            "Epoch 19/200\n",
            "10/10 [==============================] - 0s 4ms/step - loss: 0.4877 - accuracy: 0.8723\n",
            "Epoch 20/200\n",
            "10/10 [==============================] - 0s 4ms/step - loss: 0.5299 - accuracy: 0.7872\n",
            "Epoch 21/200\n",
            "10/10 [==============================] - 0s 4ms/step - loss: 0.4495 - accuracy: 0.8936\n",
            "Epoch 22/200\n",
            "10/10 [==============================] - 0s 4ms/step - loss: 0.5245 - accuracy: 0.8298\n",
            "Epoch 23/200\n",
            "10/10 [==============================] - 0s 3ms/step - loss: 0.4596 - accuracy: 0.8936\n",
            "Epoch 24/200\n",
            "10/10 [==============================] - 0s 4ms/step - loss: 0.4350 - accuracy: 0.8723\n",
            "Epoch 25/200\n",
            "10/10 [==============================] - 0s 4ms/step - loss: 0.3521 - accuracy: 0.9574\n",
            "Epoch 26/200\n",
            "10/10 [==============================] - 0s 4ms/step - loss: 0.3293 - accuracy: 0.9149\n",
            "Epoch 27/200\n",
            "10/10 [==============================] - 0s 4ms/step - loss: 0.3493 - accuracy: 0.8511\n",
            "Epoch 28/200\n",
            "10/10 [==============================] - 0s 4ms/step - loss: 0.2399 - accuracy: 0.9574\n",
            "Epoch 29/200\n",
            "10/10 [==============================] - 0s 4ms/step - loss: 0.3216 - accuracy: 0.9149\n",
            "Epoch 30/200\n",
            "10/10 [==============================] - 0s 4ms/step - loss: 0.2284 - accuracy: 0.9362\n",
            "Epoch 31/200\n",
            "10/10 [==============================] - 0s 4ms/step - loss: 0.2554 - accuracy: 0.9362\n",
            "Epoch 32/200\n",
            "10/10 [==============================] - 0s 7ms/step - loss: 0.2085 - accuracy: 0.9574\n",
            "Epoch 33/200\n",
            "10/10 [==============================] - 0s 5ms/step - loss: 0.2107 - accuracy: 0.9787\n",
            "Epoch 34/200\n",
            "10/10 [==============================] - 0s 4ms/step - loss: 0.2763 - accuracy: 0.9362\n",
            "Epoch 35/200\n",
            "10/10 [==============================] - 0s 4ms/step - loss: 0.2408 - accuracy: 0.9362\n",
            "Epoch 36/200\n",
            "10/10 [==============================] - 0s 5ms/step - loss: 0.2959 - accuracy: 0.9149\n",
            "Epoch 37/200\n",
            "10/10 [==============================] - 0s 4ms/step - loss: 0.1515 - accuracy: 1.0000\n",
            "Epoch 38/200\n",
            "10/10 [==============================] - 0s 4ms/step - loss: 0.1440 - accuracy: 0.9574\n",
            "Epoch 39/200\n",
            "10/10 [==============================] - 0s 4ms/step - loss: 0.1729 - accuracy: 0.9787\n",
            "Epoch 40/200\n",
            "10/10 [==============================] - 0s 4ms/step - loss: 0.1299 - accuracy: 1.0000\n",
            "Epoch 41/200\n",
            "10/10 [==============================] - 0s 4ms/step - loss: 0.0732 - accuracy: 0.9787\n",
            "Epoch 42/200\n",
            "10/10 [==============================] - 0s 3ms/step - loss: 0.0695 - accuracy: 1.0000\n",
            "Epoch 43/200\n",
            "10/10 [==============================] - 0s 4ms/step - loss: 0.1124 - accuracy: 1.0000\n",
            "Epoch 44/200\n",
            "10/10 [==============================] - 0s 4ms/step - loss: 0.1751 - accuracy: 0.9362\n",
            "Epoch 45/200\n",
            "10/10 [==============================] - 0s 4ms/step - loss: 0.1216 - accuracy: 0.9787\n",
            "Epoch 46/200\n",
            "10/10 [==============================] - 0s 5ms/step - loss: 0.1910 - accuracy: 0.9362\n",
            "Epoch 47/200\n",
            "10/10 [==============================] - 0s 5ms/step - loss: 0.1376 - accuracy: 0.9574\n",
            "Epoch 48/200\n",
            "10/10 [==============================] - 0s 4ms/step - loss: 0.0857 - accuracy: 0.9787\n",
            "Epoch 49/200\n",
            "10/10 [==============================] - 0s 4ms/step - loss: 0.1245 - accuracy: 1.0000\n",
            "Epoch 50/200\n",
            "10/10 [==============================] - 0s 3ms/step - loss: 0.0775 - accuracy: 1.0000\n",
            "Epoch 51/200\n",
            "10/10 [==============================] - 0s 4ms/step - loss: 0.1147 - accuracy: 1.0000\n",
            "Epoch 52/200\n",
            "10/10 [==============================] - 0s 4ms/step - loss: 0.0950 - accuracy: 0.9787\n",
            "Epoch 53/200\n",
            "10/10 [==============================] - 0s 4ms/step - loss: 0.0401 - accuracy: 1.0000\n",
            "Epoch 54/200\n",
            "10/10 [==============================] - 0s 4ms/step - loss: 0.1271 - accuracy: 0.9787\n",
            "Epoch 55/200\n",
            "10/10 [==============================] - 0s 4ms/step - loss: 0.1113 - accuracy: 1.0000\n",
            "Epoch 56/200\n",
            "10/10 [==============================] - 0s 4ms/step - loss: 0.0896 - accuracy: 0.9787\n",
            "Epoch 57/200\n",
            "10/10 [==============================] - 0s 4ms/step - loss: 0.1181 - accuracy: 0.9787\n",
            "Epoch 58/200\n",
            "10/10 [==============================] - 0s 5ms/step - loss: 0.0358 - accuracy: 1.0000\n",
            "Epoch 59/200\n",
            "10/10 [==============================] - 0s 5ms/step - loss: 0.0715 - accuracy: 1.0000\n",
            "Epoch 60/200\n",
            "10/10 [==============================] - 0s 4ms/step - loss: 0.0782 - accuracy: 0.9787\n",
            "Epoch 61/200\n",
            "10/10 [==============================] - 0s 4ms/step - loss: 0.1084 - accuracy: 0.9787\n",
            "Epoch 62/200\n",
            "10/10 [==============================] - 0s 4ms/step - loss: 0.1156 - accuracy: 0.9787\n",
            "Epoch 63/200\n",
            "10/10 [==============================] - 0s 4ms/step - loss: 0.1378 - accuracy: 0.9362\n",
            "Epoch 64/200\n",
            "10/10 [==============================] - 0s 3ms/step - loss: 0.0481 - accuracy: 0.9787\n",
            "Epoch 65/200\n",
            "10/10 [==============================] - 0s 4ms/step - loss: 0.0645 - accuracy: 0.9787\n",
            "Epoch 66/200\n",
            "10/10 [==============================] - 0s 4ms/step - loss: 0.0742 - accuracy: 0.9574\n",
            "Epoch 67/200\n",
            "10/10 [==============================] - 0s 4ms/step - loss: 0.0321 - accuracy: 1.0000\n",
            "Epoch 68/200\n",
            "10/10 [==============================] - 0s 4ms/step - loss: 0.0968 - accuracy: 0.9574\n",
            "Epoch 69/200\n",
            "10/10 [==============================] - 0s 3ms/step - loss: 0.1890 - accuracy: 0.9574\n",
            "Epoch 70/200\n",
            "10/10 [==============================] - 0s 4ms/step - loss: 0.0677 - accuracy: 0.9787\n",
            "Epoch 71/200\n",
            "10/10 [==============================] - 0s 4ms/step - loss: 0.0627 - accuracy: 0.9574\n",
            "Epoch 72/200\n",
            "10/10 [==============================] - 0s 4ms/step - loss: 0.0349 - accuracy: 1.0000\n",
            "Epoch 73/200\n",
            "10/10 [==============================] - 0s 3ms/step - loss: 0.0932 - accuracy: 0.9787\n",
            "Epoch 74/200\n",
            "10/10 [==============================] - 0s 5ms/step - loss: 0.0612 - accuracy: 0.9574\n",
            "Epoch 75/200\n",
            "10/10 [==============================] - 0s 4ms/step - loss: 0.0518 - accuracy: 1.0000\n",
            "Epoch 76/200\n",
            "10/10 [==============================] - 0s 4ms/step - loss: 0.0301 - accuracy: 1.0000\n",
            "Epoch 77/200\n",
            "10/10 [==============================] - 0s 4ms/step - loss: 0.0222 - accuracy: 1.0000\n",
            "Epoch 78/200\n",
            "10/10 [==============================] - 0s 4ms/step - loss: 0.0565 - accuracy: 0.9787\n",
            "Epoch 79/200\n",
            "10/10 [==============================] - 0s 5ms/step - loss: 0.0290 - accuracy: 1.0000\n",
            "Epoch 80/200\n",
            "10/10 [==============================] - 0s 5ms/step - loss: 0.0270 - accuracy: 1.0000\n",
            "Epoch 81/200\n",
            "10/10 [==============================] - 0s 4ms/step - loss: 0.0356 - accuracy: 1.0000\n",
            "Epoch 82/200\n",
            "10/10 [==============================] - 0s 4ms/step - loss: 0.0212 - accuracy: 1.0000\n",
            "Epoch 83/200\n",
            "10/10 [==============================] - 0s 4ms/step - loss: 0.0176 - accuracy: 1.0000\n",
            "Epoch 84/200\n",
            "10/10 [==============================] - 0s 5ms/step - loss: 0.0230 - accuracy: 1.0000\n",
            "Epoch 85/200\n",
            "10/10 [==============================] - 0s 4ms/step - loss: 0.0663 - accuracy: 1.0000\n",
            "Epoch 86/200\n",
            "10/10 [==============================] - 0s 4ms/step - loss: 0.1170 - accuracy: 0.9574\n",
            "Epoch 87/200\n",
            "10/10 [==============================] - 0s 4ms/step - loss: 0.0276 - accuracy: 1.0000\n",
            "Epoch 88/200\n",
            "10/10 [==============================] - 0s 3ms/step - loss: 0.0366 - accuracy: 1.0000\n",
            "Epoch 89/200\n",
            "10/10 [==============================] - 0s 5ms/step - loss: 0.0383 - accuracy: 1.0000\n",
            "Epoch 90/200\n",
            "10/10 [==============================] - 0s 4ms/step - loss: 0.0498 - accuracy: 0.9787\n",
            "Epoch 91/200\n",
            "10/10 [==============================] - 0s 4ms/step - loss: 0.0197 - accuracy: 1.0000\n",
            "Epoch 92/200\n",
            "10/10 [==============================] - 0s 4ms/step - loss: 0.0367 - accuracy: 1.0000\n",
            "Epoch 93/200\n",
            "10/10 [==============================] - 0s 4ms/step - loss: 0.0846 - accuracy: 0.9787\n",
            "Epoch 94/200\n",
            "10/10 [==============================] - 0s 4ms/step - loss: 0.0324 - accuracy: 1.0000\n",
            "Epoch 95/200\n",
            "10/10 [==============================] - 0s 3ms/step - loss: 0.0137 - accuracy: 1.0000\n",
            "Epoch 96/200\n",
            "10/10 [==============================] - 0s 4ms/step - loss: 0.0166 - accuracy: 1.0000\n",
            "Epoch 97/200\n",
            "10/10 [==============================] - 0s 4ms/step - loss: 0.0223 - accuracy: 1.0000\n",
            "Epoch 98/200\n",
            "10/10 [==============================] - 0s 4ms/step - loss: 0.0072 - accuracy: 1.0000\n",
            "Epoch 99/200\n",
            "10/10 [==============================] - 0s 4ms/step - loss: 0.0662 - accuracy: 0.9787\n",
            "Epoch 100/200\n",
            "10/10 [==============================] - 0s 4ms/step - loss: 0.0939 - accuracy: 0.9574\n",
            "Epoch 101/200\n",
            "10/10 [==============================] - 0s 4ms/step - loss: 0.0180 - accuracy: 1.0000\n",
            "Epoch 102/200\n",
            "10/10 [==============================] - 0s 4ms/step - loss: 0.0287 - accuracy: 1.0000\n",
            "Epoch 103/200\n",
            "10/10 [==============================] - 0s 4ms/step - loss: 0.0660 - accuracy: 0.9787\n",
            "Epoch 104/200\n",
            "10/10 [==============================] - 0s 4ms/step - loss: 0.0527 - accuracy: 0.9787\n",
            "Epoch 105/200\n",
            "10/10 [==============================] - 0s 4ms/step - loss: 0.0164 - accuracy: 1.0000\n",
            "Epoch 106/200\n",
            "10/10 [==============================] - 0s 4ms/step - loss: 0.0156 - accuracy: 1.0000\n",
            "Epoch 107/200\n",
            "10/10 [==============================] - 0s 4ms/step - loss: 0.0907 - accuracy: 0.9574\n",
            "Epoch 108/200\n",
            "10/10 [==============================] - 0s 4ms/step - loss: 0.0124 - accuracy: 1.0000\n",
            "Epoch 109/200\n",
            "10/10 [==============================] - 0s 4ms/step - loss: 0.0266 - accuracy: 1.0000\n",
            "Epoch 110/200\n",
            "10/10 [==============================] - 0s 4ms/step - loss: 0.0292 - accuracy: 1.0000\n",
            "Epoch 111/200\n",
            "10/10 [==============================] - 0s 5ms/step - loss: 0.0891 - accuracy: 0.9362\n",
            "Epoch 112/200\n",
            "10/10 [==============================] - 0s 4ms/step - loss: 0.0148 - accuracy: 1.0000\n",
            "Epoch 113/200\n",
            "10/10 [==============================] - 0s 4ms/step - loss: 0.0206 - accuracy: 1.0000\n",
            "Epoch 114/200\n",
            "10/10 [==============================] - 0s 4ms/step - loss: 0.0189 - accuracy: 1.0000\n",
            "Epoch 115/200\n",
            "10/10 [==============================] - 0s 4ms/step - loss: 0.0153 - accuracy: 1.0000\n",
            "Epoch 116/200\n",
            "10/10 [==============================] - 0s 5ms/step - loss: 0.0106 - accuracy: 1.0000\n",
            "Epoch 117/200\n",
            "10/10 [==============================] - 0s 4ms/step - loss: 0.0436 - accuracy: 0.9787\n",
            "Epoch 118/200\n",
            "10/10 [==============================] - 0s 4ms/step - loss: 0.0665 - accuracy: 0.9787\n",
            "Epoch 119/200\n",
            "10/10 [==============================] - 0s 5ms/step - loss: 0.0291 - accuracy: 1.0000\n",
            "Epoch 120/200\n",
            "10/10 [==============================] - 0s 4ms/step - loss: 0.0188 - accuracy: 1.0000\n",
            "Epoch 121/200\n",
            "10/10 [==============================] - 0s 4ms/step - loss: 0.0318 - accuracy: 1.0000\n",
            "Epoch 122/200\n",
            "10/10 [==============================] - 0s 4ms/step - loss: 0.0133 - accuracy: 1.0000\n",
            "Epoch 123/200\n",
            "10/10 [==============================] - 0s 4ms/step - loss: 0.0409 - accuracy: 1.0000\n",
            "Epoch 124/200\n",
            "10/10 [==============================] - 0s 4ms/step - loss: 0.0216 - accuracy: 1.0000\n",
            "Epoch 125/200\n",
            "10/10 [==============================] - 0s 4ms/step - loss: 0.1077 - accuracy: 0.9574\n",
            "Epoch 126/200\n",
            "10/10 [==============================] - 0s 4ms/step - loss: 0.0303 - accuracy: 1.0000\n",
            "Epoch 127/200\n",
            "10/10 [==============================] - 0s 4ms/step - loss: 0.0371 - accuracy: 1.0000\n",
            "Epoch 128/200\n",
            "10/10 [==============================] - 0s 4ms/step - loss: 0.0240 - accuracy: 1.0000\n",
            "Epoch 129/200\n",
            "10/10 [==============================] - 0s 4ms/step - loss: 0.0271 - accuracy: 1.0000\n",
            "Epoch 130/200\n",
            "10/10 [==============================] - 0s 5ms/step - loss: 0.0395 - accuracy: 1.0000\n",
            "Epoch 131/200\n",
            "10/10 [==============================] - 0s 5ms/step - loss: 0.0951 - accuracy: 0.9574\n",
            "Epoch 132/200\n",
            "10/10 [==============================] - 0s 4ms/step - loss: 0.0098 - accuracy: 1.0000\n",
            "Epoch 133/200\n",
            "10/10 [==============================] - 0s 4ms/step - loss: 0.0119 - accuracy: 1.0000\n",
            "Epoch 134/200\n",
            "10/10 [==============================] - 0s 4ms/step - loss: 0.0195 - accuracy: 1.0000\n",
            "Epoch 135/200\n",
            "10/10 [==============================] - 0s 5ms/step - loss: 0.0142 - accuracy: 1.0000\n",
            "Epoch 136/200\n",
            "10/10 [==============================] - 0s 4ms/step - loss: 0.0164 - accuracy: 1.0000\n",
            "Epoch 137/200\n",
            "10/10 [==============================] - 0s 4ms/step - loss: 0.0842 - accuracy: 0.9574\n",
            "Epoch 138/200\n",
            "10/10 [==============================] - 0s 4ms/step - loss: 0.0346 - accuracy: 0.9787\n",
            "Epoch 139/200\n",
            "10/10 [==============================] - 0s 4ms/step - loss: 0.0622 - accuracy: 0.9787\n",
            "Epoch 140/200\n",
            "10/10 [==============================] - 0s 4ms/step - loss: 0.0145 - accuracy: 1.0000\n",
            "Epoch 141/200\n",
            "10/10 [==============================] - 0s 4ms/step - loss: 0.0360 - accuracy: 0.9787\n",
            "Epoch 142/200\n",
            "10/10 [==============================] - 0s 4ms/step - loss: 0.0268 - accuracy: 1.0000\n",
            "Epoch 143/200\n",
            "10/10 [==============================] - 0s 4ms/step - loss: 0.0464 - accuracy: 0.9787\n",
            "Epoch 144/200\n",
            "10/10 [==============================] - 0s 4ms/step - loss: 0.0262 - accuracy: 1.0000\n",
            "Epoch 145/200\n",
            "10/10 [==============================] - 0s 4ms/step - loss: 0.0498 - accuracy: 0.9787\n",
            "Epoch 146/200\n",
            "10/10 [==============================] - 0s 4ms/step - loss: 0.0331 - accuracy: 1.0000\n",
            "Epoch 147/200\n",
            "10/10 [==============================] - 0s 4ms/step - loss: 0.0130 - accuracy: 1.0000\n",
            "Epoch 148/200\n",
            "10/10 [==============================] - 0s 5ms/step - loss: 0.0064 - accuracy: 1.0000\n",
            "Epoch 149/200\n",
            "10/10 [==============================] - 0s 5ms/step - loss: 0.0266 - accuracy: 1.0000\n",
            "Epoch 150/200\n",
            "10/10 [==============================] - 0s 4ms/step - loss: 0.0082 - accuracy: 1.0000\n",
            "Epoch 151/200\n",
            "10/10 [==============================] - 0s 4ms/step - loss: 0.0847 - accuracy: 0.9787\n",
            "Epoch 152/200\n",
            "10/10 [==============================] - 0s 4ms/step - loss: 0.0063 - accuracy: 1.0000\n",
            "Epoch 153/200\n",
            "10/10 [==============================] - 0s 4ms/step - loss: 0.0094 - accuracy: 1.0000\n",
            "Epoch 154/200\n",
            "10/10 [==============================] - 0s 4ms/step - loss: 0.0147 - accuracy: 1.0000\n",
            "Epoch 155/200\n",
            "10/10 [==============================] - 0s 4ms/step - loss: 0.0391 - accuracy: 0.9787\n",
            "Epoch 156/200\n",
            "10/10 [==============================] - 0s 4ms/step - loss: 0.0417 - accuracy: 0.9787\n",
            "Epoch 157/200\n",
            "10/10 [==============================] - 0s 4ms/step - loss: 0.0338 - accuracy: 1.0000\n",
            "Epoch 158/200\n",
            "10/10 [==============================] - 0s 5ms/step - loss: 0.0115 - accuracy: 1.0000\n",
            "Epoch 159/200\n",
            "10/10 [==============================] - 0s 4ms/step - loss: 0.0125 - accuracy: 1.0000\n",
            "Epoch 160/200\n",
            "10/10 [==============================] - 0s 4ms/step - loss: 0.0087 - accuracy: 1.0000\n",
            "Epoch 161/200\n",
            "10/10 [==============================] - 0s 4ms/step - loss: 0.1284 - accuracy: 0.9149\n",
            "Epoch 162/200\n",
            "10/10 [==============================] - 0s 4ms/step - loss: 0.0289 - accuracy: 1.0000\n",
            "Epoch 163/200\n",
            "10/10 [==============================] - 0s 4ms/step - loss: 0.0153 - accuracy: 1.0000\n",
            "Epoch 164/200\n",
            "10/10 [==============================] - 0s 4ms/step - loss: 0.0329 - accuracy: 1.0000\n",
            "Epoch 165/200\n",
            "10/10 [==============================] - 0s 5ms/step - loss: 0.0036 - accuracy: 1.0000\n",
            "Epoch 166/200\n",
            "10/10 [==============================] - 0s 4ms/step - loss: 0.0269 - accuracy: 1.0000\n",
            "Epoch 167/200\n",
            "10/10 [==============================] - 0s 5ms/step - loss: 0.0043 - accuracy: 1.0000\n",
            "Epoch 168/200\n",
            "10/10 [==============================] - 0s 4ms/step - loss: 0.0510 - accuracy: 1.0000\n",
            "Epoch 169/200\n",
            "10/10 [==============================] - 0s 4ms/step - loss: 0.0071 - accuracy: 1.0000\n",
            "Epoch 170/200\n",
            "10/10 [==============================] - 0s 4ms/step - loss: 0.0180 - accuracy: 1.0000\n",
            "Epoch 171/200\n",
            "10/10 [==============================] - 0s 4ms/step - loss: 0.0410 - accuracy: 1.0000\n",
            "Epoch 172/200\n",
            "10/10 [==============================] - 0s 4ms/step - loss: 0.0499 - accuracy: 0.9787\n",
            "Epoch 173/200\n",
            "10/10 [==============================] - 0s 5ms/step - loss: 0.0336 - accuracy: 0.9787\n",
            "Epoch 174/200\n",
            "10/10 [==============================] - 0s 4ms/step - loss: 0.0196 - accuracy: 1.0000\n",
            "Epoch 175/200\n",
            "10/10 [==============================] - 0s 4ms/step - loss: 0.0333 - accuracy: 1.0000\n",
            "Epoch 176/200\n",
            "10/10 [==============================] - 0s 4ms/step - loss: 0.0093 - accuracy: 1.0000\n",
            "Epoch 177/200\n",
            "10/10 [==============================] - 0s 4ms/step - loss: 0.0064 - accuracy: 1.0000\n",
            "Epoch 178/200\n",
            "10/10 [==============================] - 0s 5ms/step - loss: 0.0654 - accuracy: 0.9787\n",
            "Epoch 179/200\n",
            "10/10 [==============================] - 0s 5ms/step - loss: 0.0435 - accuracy: 1.0000\n",
            "Epoch 180/200\n",
            "10/10 [==============================] - 0s 4ms/step - loss: 0.0162 - accuracy: 1.0000\n",
            "Epoch 181/200\n",
            "10/10 [==============================] - 0s 4ms/step - loss: 0.0578 - accuracy: 0.9787\n",
            "Epoch 182/200\n",
            "10/10 [==============================] - 0s 4ms/step - loss: 0.0105 - accuracy: 1.0000\n",
            "Epoch 183/200\n",
            "10/10 [==============================] - 0s 4ms/step - loss: 0.0086 - accuracy: 1.0000\n",
            "Epoch 184/200\n",
            "10/10 [==============================] - 0s 4ms/step - loss: 0.0228 - accuracy: 1.0000\n",
            "Epoch 185/200\n",
            "10/10 [==============================] - 0s 4ms/step - loss: 0.0397 - accuracy: 1.0000\n",
            "Epoch 186/200\n",
            "10/10 [==============================] - 0s 4ms/step - loss: 0.0232 - accuracy: 1.0000\n",
            "Epoch 187/200\n",
            "10/10 [==============================] - 0s 4ms/step - loss: 0.0110 - accuracy: 1.0000\n",
            "Epoch 188/200\n",
            "10/10 [==============================] - 0s 4ms/step - loss: 0.0075 - accuracy: 1.0000\n",
            "Epoch 189/200\n",
            "10/10 [==============================] - 0s 5ms/step - loss: 0.0145 - accuracy: 1.0000\n",
            "Epoch 190/200\n",
            "10/10 [==============================] - 0s 4ms/step - loss: 0.0088 - accuracy: 1.0000\n",
            "Epoch 191/200\n",
            "10/10 [==============================] - 0s 4ms/step - loss: 0.0116 - accuracy: 1.0000\n",
            "Epoch 192/200\n",
            "10/10 [==============================] - 0s 4ms/step - loss: 0.0088 - accuracy: 1.0000\n",
            "Epoch 193/200\n",
            "10/10 [==============================] - 0s 4ms/step - loss: 0.0057 - accuracy: 1.0000\n",
            "Epoch 194/200\n",
            "10/10 [==============================] - 0s 4ms/step - loss: 0.0460 - accuracy: 0.9787\n",
            "Epoch 195/200\n",
            "10/10 [==============================] - 0s 4ms/step - loss: 0.0041 - accuracy: 1.0000\n",
            "Epoch 196/200\n",
            "10/10 [==============================] - 0s 4ms/step - loss: 0.0560 - accuracy: 0.9574\n",
            "Epoch 197/200\n",
            "10/10 [==============================] - 0s 4ms/step - loss: 0.0902 - accuracy: 0.9787\n",
            "Epoch 198/200\n",
            "10/10 [==============================] - 0s 4ms/step - loss: 0.0534 - accuracy: 0.9787\n",
            "Epoch 199/200\n",
            "10/10 [==============================] - 0s 4ms/step - loss: 0.0636 - accuracy: 0.9787\n",
            "Epoch 200/200\n",
            "10/10 [==============================] - 0s 4ms/step - loss: 0.0082 - accuracy: 1.0000\n"
          ]
        }
      ]
    },
    {
      "cell_type": "code",
      "metadata": {
        "colab": {
          "base_uri": "https://localhost:8080/"
        },
        "id": "FcRXyEuRufZ6",
        "outputId": "2d09fabe-4411-4c2c-be9c-516300ca4151"
      },
      "source": [
        "model.save('chatbot_model.h5', hist)\n",
        "print(\"model created\")"
      ],
      "execution_count": 70,
      "outputs": [
        {
          "output_type": "stream",
          "name": "stdout",
          "text": [
            "model created\n"
          ]
        }
      ]
    },
    {
      "cell_type": "markdown",
      "metadata": {
        "id": "SuE6J2kFvM-w"
      },
      "source": [
        "creating a graphic user interface for the chatbot prediction"
      ]
    },
    {
      "cell_type": "code",
      "metadata": {
        "id": "gkbZPC_Wuk3S"
      },
      "source": [
        "#loading the model using load_model from tensorflow\n",
        "from keras.models import load_model\n",
        "buildt_model = load_model(\"/content/chatbot_model.h5\")"
      ],
      "execution_count": 71,
      "outputs": []
    },
    {
      "cell_type": "markdown",
      "metadata": {
        "id": "0rZafU3MyQC5"
      },
      "source": [
        "loading files "
      ]
    },
    {
      "cell_type": "code",
      "metadata": {
        "id": "Cl3Red8lxxry"
      },
      "source": [
        "intents = json.loads(open(\"/content/intents.json\").read())\n",
        "words = pickle.load(open(\"/content/words.pickle\", \"rb\"))\n",
        "classes = pickle.load(open(\"/content/classes.pickle\", \"rb\"))"
      ],
      "execution_count": 72,
      "outputs": []
    },
    {
      "cell_type": "markdown",
      "metadata": {
        "id": "8JzinhXM0lFe"
      },
      "source": [
        "function for cleaning words"
      ]
    },
    {
      "cell_type": "code",
      "metadata": {
        "id": "xRTwJekDznH6"
      },
      "source": [
        "def clean_sentences(sentence):\n",
        "  #tokenizing the words in the sentence\n",
        "  sentence_word = nltk.wordpunct_tokenize(sentence)\n",
        "  #create short form of word using stemming\n",
        "  sentence_words = [lemmatizer.lemmatize(word.lower())for word in sentence_words]\n",
        "  return sentence_words"
      ],
      "execution_count": 73,
      "outputs": []
    },
    {
      "cell_type": "code",
      "metadata": {
        "id": "LD5JkMAX0imd"
      },
      "source": [
        "def bow(sentence,words, show_details=True):\n",
        "  #tokenize pattern\n",
        "  sentence_words = clean_sentences(sentence)\n",
        "\n",
        "  bag = [0]*len(words)\n",
        "  for s in sentenece_words:\n",
        "    for i, w in enumerate(words):\n",
        "      if w == s:\n",
        "        bag[i] =1\n",
        "        if show_details:\n",
        "          print(\"found bag of: %\" % w)\n",
        "  return (np.array(bag))"
      ],
      "execution_count": 74,
      "outputs": []
    },
    {
      "cell_type": "markdown",
      "metadata": {
        "id": "QbXz6BoH1v5N"
      },
      "source": [
        "predicting founction"
      ]
    },
    {
      "cell_type": "code",
      "metadata": {
        "id": "ukMtfwDM1y7Q"
      },
      "source": [
        "def predict_class(sentence, model):\n",
        "  #filtering predictions\n",
        "  p = bow(sentence, words, show_details=False)\n",
        "  res = model.predict(np.array([p]))[0]\n",
        "  ERROR_THRESHOLD = 0.25\n",
        "  results = [[i, r]for i,r in enumerate(res) if r>ERROR_THRESHOLD]\n",
        "\n",
        "  results.sort(key=lambda x: x[1], reversed=True)\n",
        "\n",
        "  return_list = []\n",
        "  for r in results:\n",
        "    return_list.append({\"intents\":classes[r[0]], \"probability\":str(r[1])})\n",
        "  return return_list  "
      ],
      "execution_count": 75,
      "outputs": []
    },
    {
      "cell_type": "markdown",
      "metadata": {
        "id": "LbMUED003zPc"
      },
      "source": [
        "Responses function"
      ]
    },
    {
      "cell_type": "code",
      "metadata": {
        "id": "FZBVBFQs31Dy"
      },
      "source": [
        "def prediction_response(ints, intents_json):\n",
        "  tag = ints[0]['intents']\n",
        "  list_of_intents = intents_json['intents']\n",
        "\n",
        "  for i in list_of_intents:\n",
        "    if(i['tag'] == tag):\n",
        "      result = random.choice(i['response'])\n",
        "      break\n",
        "  return result"
      ],
      "execution_count": 76,
      "outputs": []
    },
    {
      "cell_type": "code",
      "metadata": {
        "id": "YwR7ddAP4ph6"
      },
      "source": [
        "def chatbot_response(text):\n",
        "  ints = predict_class(text, model)\n",
        "  res = prediction_response(ints, intents)\n",
        "\n",
        "  return res"
      ],
      "execution_count": 77,
      "outputs": []
    },
    {
      "cell_type": "markdown",
      "metadata": {
        "id": "kMzzZYW55GHJ"
      },
      "source": [
        "Creating GUI"
      ]
    },
    {
      "cell_type": "code",
      "metadata": {
        "id": "xQUFBls-5KUg"
      },
      "source": [
        "import tkinter\n",
        "from tkinter import *"
      ],
      "execution_count": 78,
      "outputs": []
    },
    {
      "cell_type": "code",
      "metadata": {
        "id": "xYZY2XhU5QwI"
      },
      "source": [
        "def send():\n",
        "    msg = EntryBox.get(\"1.0\",'end-1c').strip()\n",
        "    EntryBox.delete(\"0.0\",END)\n",
        "\n",
        "    if msg != '':\n",
        "      ChatLog.config(state=NORMAL)\n",
        "      ChatLog.insert(END, \"you: \" + msg + '\\n\\n')\n",
        "      ChatLog.config(foreground=\"#442265\", font=(\"Verdana\", 12 ))\n",
        "\n",
        "      res = chatbot_response(msg)\n",
        "      ChatLog.insert(END, \"Bot: \" + res + '\\n\\n')\n",
        "      ChatLog.config(state=DISABLED)\n",
        "      ChatLog.yview(END)"
      ],
      "execution_count": 80,
      "outputs": []
    },
    {
      "cell_type": "code",
      "metadata": {
        "id": "GBgPIwLF8Nve"
      },
      "source": [
        "#Creating GUI with tkinter\n",
        "import tkinter\n",
        "from tkinter import *\n",
        "\n",
        "\n",
        "def send():\n",
        "    msg = EntryBox.get(\"1.0\",'end-1c').strip()\n",
        "    EntryBox.delete(\"0.0\",END)\n",
        "\n",
        "    if msg != '':\n",
        "        ChatLog.config(state=NORMAL)\n",
        "        ChatLog.insert(END, \"You: \" + msg + '\\n\\n')\n",
        "        ChatLog.config(foreground=\"#442265\", font=(\"Verdana\", 12 ))\n",
        "\n",
        "        res = chatbot_response(msg)\n",
        "        ChatLog.insert(END, \"Bot: \" + res + '\\n\\n')\n",
        "\n",
        "        ChatLog.config(state=DISABLED)\n",
        "        ChatLog.yview(END)\n",
        "\n",
        "base = Tk()\n",
        "base.title(\"Hello\")\n",
        "base.geometry(\"400x500\")\n",
        "base.resizable(width=FALSE, height=FALSE)\n",
        "\n",
        "#Create Chat window\n",
        "ChatLog = Text(base, bd=0, bg=\"white\", height=\"8\", width=\"50\", font=\"Arial\",)\n",
        "\n",
        "ChatLog.config(state=DISABLED)\n",
        "\n",
        "#Bind scrollbar to Chat window\n",
        "scrollbar = Scrollbar(base, command=ChatLog.yview, cursor=\"heart\")\n",
        "ChatLog['yscrollcommand'] = scrollbar.set\n",
        "\n",
        "#Create Button to send message\n",
        "SendButton = Button(base, font=(\"Verdana\",12,'bold'), text=\"Send\", width=\"12\", height=5,\n",
        "                    bd=0, bg=\"#32de97\", activebackground=\"#3c9d9b\",fg='#ffffff',\n",
        "                    command= send )\n",
        "\n",
        "#Create the box to enter message\n",
        "EntryBox = Text(base, bd=0, bg=\"white\",width=\"29\", height=\"5\", font=\"Arial\")\n",
        "#EntryBox.bind(\"<Return>\", send)\n",
        "\n",
        "\n",
        "#Place all components on the screen\n",
        "scrollbar.place(x=376,y=6, height=386)\n",
        "ChatLog.place(x=6,y=6, height=386, width=370)\n",
        "EntryBox.place(x=128, y=401, height=90, width=265)\n",
        "SendButton.place(x=6, y=401, height=90)\n",
        "\n",
        "base.mainloop()"
      ],
      "execution_count": null,
      "outputs": []
    }
  ]
}